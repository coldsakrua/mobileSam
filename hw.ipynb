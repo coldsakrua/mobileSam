{
 "cells": [
  {
   "cell_type": "code",
   "execution_count": 9,
   "metadata": {},
   "outputs": [],
   "source": [
    "import os\n",
    "import random\n",
    "from glob import glob\n",
    "from PIL import Image\n",
    "import cv2\n",
    "import numpy as np\n",
    "import torch\n",
    "from torch.utils.data import Dataset, DataLoader"
   ]
  },
  {
   "cell_type": "code",
   "execution_count": null,
   "metadata": {},
   "outputs": [],
   "source": [
    "class IG02DataSet(Dataset):\n",
    "    \n",
    "    def __init__(self,data_path,single=True):\n",
    "        self.data_path=data_path\n",
    "        self.data=sorted(glob(os.path.join(self.data_path,'*.image.png')))\n",
    "        \n",
    "    def __len__(self):\n",
    "        return len(self.data)\n",
    "    \n",
    "    def __getitem__(self, index):\n",
    "        datapath=self.data[index]\n",
    "        "
   ]
  },
  {
   "cell_type": "code",
   "execution_count": null,
   "metadata": {},
   "outputs": [],
   "source": [
    "class LaPaDataset(Dataset):\n",
    "    def __init__(self,data_path,label_path):\n",
    "        self.data_path=data_path\n",
    "        self.label_path=label_path\n",
    "        self.num2color={\n",
    "            0:[0,0,0],\n",
    "            1:[0, 153, 255],\n",
    "            2:[102, 255, 153],\n",
    "            3:[0, 204, 153],\n",
    "            4:[255, 255, 102],\n",
    "            5:[255, 255, 204],\n",
    "            6:[255, 153, 0],\n",
    "            7:[255, 102, 255],\n",
    "            8:[102, 0, 51],\n",
    "            9:[255, 204, 255],\n",
    "            10:[255, 0, 102]\n",
    "        }\n",
    "        self.num2label={\n",
    "            0:'background',\n",
    "            1:'skin',\n",
    "            2:'left eyebrow',\n",
    "            3:'right eyebrow',\n",
    "            4:'left eye',\n",
    "            5:'right eye',\n",
    "            6:'nose',\n",
    "            7:'upper lip',\n",
    "            8:'inner mouth',\n",
    "            9:'lower lip',\n",
    "            10:'hair'\n",
    "        }\n",
    "        self.data=sorted(glob(os.path.join(self.data_path,'*.jpg')))\n",
    "        self.label=sorted(glob(os.path.join(self.label_path,'*.png')))\n",
    "    \n",
    "    def __len__(self):\n",
    "        return len(self.data)\n",
    "    \n",
    "    def __getitem__(self, index):\n",
    "        data_path=self.data_path[index]\n",
    "        label_path=self.label_path[index]\n",
    "        img=np.array(Image.open(data_path))\n",
    "        "
   ]
  },
  {
   "cell_type": "code",
   "execution_count": 18,
   "metadata": {},
   "outputs": [
    {
     "data": {
      "text/plain": [
       "'./LaPa/train/images/10001436895_0.jpg'"
      ]
     },
     "execution_count": 18,
     "metadata": {},
     "output_type": "execute_result"
    }
   ],
   "source": [
    "data_path='./LaPa/train/images/'\n",
    "data=sorted(glob(os.path.join(data_path,'*.jpg')))\n",
    "data[0]"
   ]
  },
  {
   "cell_type": "code",
   "execution_count": 20,
   "metadata": {},
   "outputs": [
    {
     "data": {
      "text/plain": [
       "(492, 440, 3)"
      ]
     },
     "execution_count": 20,
     "metadata": {},
     "output_type": "execute_result"
    }
   ],
   "source": [
    "a=Image.open(data[0])\n",
    "b=np.array(a)\n",
    "b.shape"
   ]
  }
 ],
 "metadata": {
  "kernelspec": {
   "display_name": "sam",
   "language": "python",
   "name": "python3"
  },
  "language_info": {
   "codemirror_mode": {
    "name": "ipython",
    "version": 3
   },
   "file_extension": ".py",
   "mimetype": "text/x-python",
   "name": "python",
   "nbconvert_exporter": "python",
   "pygments_lexer": "ipython3",
   "version": "3.8.0"
  }
 },
 "nbformat": 4,
 "nbformat_minor": 2
}
